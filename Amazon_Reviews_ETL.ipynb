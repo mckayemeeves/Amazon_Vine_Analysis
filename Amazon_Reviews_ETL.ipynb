{
  "nbformat": 4,
  "nbformat_minor": 0,
  "metadata": {
    "colab": {
      "provenance": []
    },
    "kernelspec": {
      "name": "python3",
      "display_name": "Python 3"
    },
    "nteract": {
      "version": "0.12.3"
    },
    "language_info": {
      "name": "python"
    }
  },
  "cells": [
    {
      "cell_type": "code",
      "metadata": {
        "id": "V58rxea0HqSa",
        "colab": {
          "base_uri": "https://localhost:8080/"
        },
        "outputId": "9bafa39b-25c3-4dac-ee5f-c729c05bc0c6"
      },
      "source": [
        "import os\n",
        "# Find the latest version of spark 3.0  from http://www.apache.org/dist/spark/ and enter as the spark version\n",
        "# For example:\n",
        "# spark_version = 'spark-3.0.3'\n",
        "spark_version = 'spark-3.3.1'\n",
        "os.environ['SPARK_VERSION']=spark_version\n",
        "# Install Spark and Java\n",
        "!apt-get update\n",
        "!apt-get install openjdk-11-jdk-headless -qq > /dev/null\n",
        "!wget -q http://www.apache.org/dist/spark/$SPARK_VERSION/$SPARK_VERSION-bin-hadoop3.tgz\n",
        "!tar xf $SPARK_VERSION-bin-hadoop3.tgz\n",
        "!pip install -q findspark\n",
        "# Set Environment Variables\n",
        "import os\n",
        "os.environ[\"JAVA_HOME\"] = \"/usr/lib/jvm/java-11-openjdk-amd64\"\n",
        "os.environ[\"SPARK_HOME\"] = f\"/content/{spark_version}-bin-hadoop3\"\n",
        "# Start a SparkSession\n",
        "import findspark\n",
        "findspark.init()"
      ],
      "execution_count": 1,
      "outputs": [
        {
          "output_type": "stream",
          "name": "stdout",
          "text": [
            "\r0% [Working]\r            \rHit:1 http://archive.ubuntu.com/ubuntu bionic InRelease\n",
            "\r0% [Waiting for headers] [Connecting to security.ubuntu.com (91.189.91.38)] [Co\r0% [1 InRelease gpgv 242 kB] [Waiting for headers] [Waiting for headers] [Waiti\r                                                                               \rGet:2 http://archive.ubuntu.com/ubuntu bionic-updates InRelease [88.7 kB]\n",
            "\r0% [1 InRelease gpgv 242 kB] [2 InRelease 14.2 kB/88.7 kB 16%] [Waiting for hea\r                                                                               \rGet:3 https://cloud.r-project.org/bin/linux/ubuntu bionic-cran40/ InRelease [3,626 B]\n",
            "\r0% [1 InRelease gpgv 242 kB] [2 InRelease 15.6 kB/88.7 kB 18%] [Waiting for hea\r                                                                               \rGet:4 http://security.ubuntu.com/ubuntu bionic-security InRelease [88.7 kB]\n",
            "\r0% [1 InRelease gpgv 242 kB] [2 InRelease 15.6 kB/88.7 kB 18%] [4 InRelease 14.\r                                                                               \rIgn:5 https://developer.download.nvidia.com/compute/machine-learning/repos/ubuntu1804/x86_64  InRelease\n",
            "\r0% [1 InRelease gpgv 242 kB] [2 InRelease 30.1 kB/88.7 kB 34%] [4 InRelease 14.\r                                                                               \rGet:6 https://developer.download.nvidia.com/compute/cuda/repos/ubuntu1804/x86_64  InRelease [1,581 B]\n",
            "Hit:7 https://developer.download.nvidia.com/compute/machine-learning/repos/ubuntu1804/x86_64  Release\n",
            "Get:8 http://ppa.launchpad.net/c2d4u.team/c2d4u4.0+/ubuntu bionic InRelease [15.9 kB]\n",
            "Get:9 http://archive.ubuntu.com/ubuntu bionic-backports InRelease [83.3 kB]\n",
            "Hit:10 http://ppa.launchpad.net/cran/libgit2/ubuntu bionic InRelease\n",
            "Get:11 http://ppa.launchpad.net/deadsnakes/ppa/ubuntu bionic InRelease [15.9 kB]\n",
            "Hit:12 http://ppa.launchpad.net/graphics-drivers/ppa/ubuntu bionic InRelease\n",
            "Get:13 https://cloud.r-project.org/bin/linux/ubuntu bionic-cran40/ Packages [98.9 kB]\n",
            "Get:14 https://developer.download.nvidia.com/compute/cuda/repos/ubuntu1804/x86_64  Packages [992 kB]\n",
            "Get:16 http://archive.ubuntu.com/ubuntu bionic-updates/restricted amd64 Packages [1,267 kB]\n",
            "Get:17 http://archive.ubuntu.com/ubuntu bionic-updates/universe amd64 Packages [2,332 kB]\n",
            "Get:18 http://archive.ubuntu.com/ubuntu bionic-updates/main amd64 Packages [3,472 kB]\n",
            "Get:19 http://security.ubuntu.com/ubuntu bionic-security/universe amd64 Packages [1,554 kB]\n",
            "Get:20 http://security.ubuntu.com/ubuntu bionic-security/main amd64 Packages [3,040 kB]\n",
            "Get:21 http://security.ubuntu.com/ubuntu bionic-security/restricted amd64 Packages [1,226 kB]\n",
            "Get:22 http://ppa.launchpad.net/c2d4u.team/c2d4u4.0+/ubuntu bionic/main Sources [2,215 kB]\n",
            "Get:23 http://ppa.launchpad.net/c2d4u.team/c2d4u4.0+/ubuntu bionic/main amd64 Packages [1,133 kB]\n",
            "Fetched 17.6 MB in 9s (1,926 kB/s)\n",
            "Reading package lists... Done\n"
          ]
        }
      ]
    },
    {
      "cell_type": "code",
      "metadata": {
        "id": "_xKwTpATHqSe",
        "colab": {
          "base_uri": "https://localhost:8080/"
        },
        "outputId": "28517f78-a786-4d57-d593-d0f4f0849f29"
      },
      "source": [
        "# Download the Postgres driver that will allow Spark to interact with Postgres.\n",
        "!wget https://jdbc.postgresql.org/download/postgresql-42.2.16.jar"
      ],
      "execution_count": 2,
      "outputs": [
        {
          "output_type": "stream",
          "name": "stdout",
          "text": [
            "--2022-11-05 17:35:30--  https://jdbc.postgresql.org/download/postgresql-42.2.16.jar\n",
            "Resolving jdbc.postgresql.org (jdbc.postgresql.org)... 72.32.157.228, 2001:4800:3e1:1::228\n",
            "Connecting to jdbc.postgresql.org (jdbc.postgresql.org)|72.32.157.228|:443... connected.\n",
            "HTTP request sent, awaiting response... 200 OK\n",
            "Length: 1002883 (979K) [application/java-archive]\n",
            "Saving to: ‘postgresql-42.2.16.jar’\n",
            "\n",
            "postgresql-42.2.16. 100%[===================>] 979.38K  --.-KB/s    in 0.08s   \n",
            "\n",
            "2022-11-05 17:35:30 (11.3 MB/s) - ‘postgresql-42.2.16.jar’ saved [1002883/1002883]\n",
            "\n"
          ]
        }
      ]
    },
    {
      "cell_type": "code",
      "metadata": {
        "id": "MMqDAjVS0KN9"
      },
      "source": [
        "from pyspark.sql import SparkSession\n",
        "spark = SparkSession.builder.appName(\"M16-Amazon-Challenge\").config(\"spark.driver.extraClassPath\",\"/content/postgresql-42.2.16.jar\").getOrCreate()"
      ],
      "execution_count": 3,
      "outputs": []
    },
    {
      "cell_type": "markdown",
      "metadata": {
        "id": "cyBsySGuY-9V"
      },
      "source": [
        "### Load Amazon Data into Spark DataFrame"
      ]
    },
    {
      "cell_type": "code",
      "metadata": {
        "id": "CtCmBhQJY-9Z",
        "colab": {
          "base_uri": "https://localhost:8080/"
        },
        "outputId": "c9e1b415-cf0c-4ae4-f441-c60f14fe892f"
      },
      "source": [
        "from pyspark import SparkFiles\n",
        "url = \"https://s3.amazonaws.com/amazon-reviews-pds/tsv/amazon_reviews_us_Beauty_v1_00.tsv.gz\"\n",
        "spark.sparkContext.addFile(url)\n",
        "df = spark.read.option(\"encoding\", \"UTF-8\").csv(SparkFiles.get(\"amazon_reviews_us_Beauty_v1_00.tsv.gz\"), sep=\"\\t\", header=True, inferSchema=True)\n",
        "df.show()"
      ],
      "execution_count": 4,
      "outputs": [
        {
          "output_type": "stream",
          "name": "stdout",
          "text": [
            "+-----------+-----------+--------------+----------+--------------+--------------------+----------------+-----------+-------------+-----------+----+-----------------+--------------------+---------------------+-------------------+\n",
            "|marketplace|customer_id|     review_id|product_id|product_parent|       product_title|product_category|star_rating|helpful_votes|total_votes|vine|verified_purchase|     review_headline|          review_body|        review_date|\n",
            "+-----------+-----------+--------------+----------+--------------+--------------------+----------------+-----------+-------------+-----------+----+-----------------+--------------------+---------------------+-------------------+\n",
            "|         US|    1797882|R3I2DHQBR577SS|B001ANOOOE|       2102612|The Naked Bee Vit...|          Beauty|          5|            0|          0|   N|                Y|          Five Stars| Love this, excell...|2015-08-31 00:00:00|\n",
            "|         US|   18381298|R1QNE9NQFJC2Y4|B0016J22EQ|     106393691|Alba Botanica Sun...|          Beauty|          5|            0|          0|   N|                Y|Thank you Alba Bo...| The great thing a...|2015-08-31 00:00:00|\n",
            "|         US|   19242472|R3LIDG2Q4LJBAO|B00HU6UQAG|     375449471|Elysee Infusion S...|          Beauty|          5|            0|          0|   N|                Y|          Five Stars| Great Product, I'...|2015-08-31 00:00:00|\n",
            "|         US|   19551372|R3KSZHPAEVPEAL|B002HWS7RM|     255651889|Diane D722 Color,...|          Beauty|          5|            0|          0|   N|                Y|          GOOD DEAL!| I use them as sho...|2015-08-31 00:00:00|\n",
            "|         US|   14802407| RAI2OIG50KZ43|B00SM99KWU|     116158747|Biore UV Aqua Ric...|          Beauty|          5|            0|          0|   N|                Y|this soaks in qui...| This is my go-to ...|2015-08-31 00:00:00|\n",
            "|         US|    2909389|R1R30FA4RB5P54|B000NYL1Z6|     166146615|Murad Clarifying ...|          Beauty|          4|            0|          0|   N|                Y|          Four Stars|                 Good|2015-08-31 00:00:00|\n",
            "|         US|   19397215|R30IJKCGJBGPJH|B001SYWTFG|     111742328|CoverGirl Queen C...|          Beauty|          5|            0|          0|   N|                Y|            Good buy| Great eyeliner, d...|2015-08-31 00:00:00|\n",
            "|         US|    3195210|R18GLJJPVQ1OVH|B005F2EVMQ|     255803087|Bifesta Mandom Ey...|          Beauty|          5|            0|          0|   N|                Y|          Five Stars|Best makeup remover！|2015-08-31 00:00:00|\n",
            "|         US|   52216383| R8TVYIJXLYJT0|B00M1SUW7K|     246816549|Can You Handlebar...|          Beauty|          5|            0|          0|   N|                Y|Tame the wild mus...| This is a great p...|2015-08-31 00:00:00|\n",
            "|         US|   10278216|R1CJGF6M3PVHEZ|B001KYQA1S|       9612905|Maybelline Great ...|          Beauty|          1|            0|          2|   N|                Y|but it's like hav...| I thought it woul...|2015-08-31 00:00:00|\n",
            "|         US|   24655453|R2A30ALEGLMCGN|B00SAQ9DZY|     292127037|12 New, High Qual...|          Beauty|          4|            1|          1|   N|                Y|        Good Product| These are great f...|2015-08-31 00:00:00|\n",
            "|         US|   30788223|R134GP1Y3EQZ1L|B00HFQQ0VU|     311309827|Waterpik Aquarius...|          Beauty|          5|            0|          0|   N|                Y| Optimum Oral Health| Just got this.  N...|2015-08-31 00:00:00|\n",
            "|         US|   11257536| R6CE3SOIUJGP4|B00PYL8MAA|     390030149|Proganix Agave Ne...|          Beauty|          4|            1|          1|   N|                N|   Love this cream !| Wish I had discov...|2015-08-31 00:00:00|\n",
            "|         US|   29605778|R37CDLQZUPDZVM|B00D9NV2D4|     794858888|         Shea Butter|          Beauty|          5|            0|          0|   N|                Y|It works so much ...| I bought this to ...|2015-08-31 00:00:00|\n",
            "|         US|   41238422|R1KH9XCK6GYT26|B008Y9M412|     874223919|Etude House Fresh...|          Beauty|          5|            0|          0|   N|                Y|          Five Stars| The tint is aweso...|2015-08-31 00:00:00|\n",
            "|         US|   23620123|R3I4BQ6654MQNA|B00FWXBLHG|     464001209|Vintage Lil' Spon...|          Beauty|          5|            1|          1|   N|                Y|Great product, fa...| I'm in love with ...|2015-08-31 00:00:00|\n",
            "|         US|   25564245|R3LUPG356F1D40|B003KL8CB0|     328680790|Jenna Jameson Hea...|          Beauty|          5|            3|          3|   N|                N|Does not smell ch...| I was given this ...|2015-08-31 00:00:00|\n",
            "|         US|     801375|R3HNVRTHL9S2ZB|B006R2LNV0|     620737389|Korean Cosmetics_...|          Beauty|          5|            0|          0|   N|                N|          Five Stars| Magical everybody...|2015-08-31 00:00:00|\n",
            "|         US|    9478730| R5HKL5RD4IUT8|B00SMIIR0W|     351973146|Schick Hydro Silk...|          Beauty|          5|            0|          0|   N|                Y|Love this Razor/T...| Works fantastic! ...|2015-08-31 00:00:00|\n",
            "|         US|   18418407|R37Z8NBTHPR853|B003UKKH6O|      10034795|Oral-B Vitality P...|          Beauty|          5|            0|          0|   N|                Y|          Five Stars| excellent battery...|2015-08-31 00:00:00|\n",
            "+-----------+-----------+--------------+----------+--------------+--------------------+----------------+-----------+-------------+-----------+----+-----------------+--------------------+---------------------+-------------------+\n",
            "only showing top 20 rows\n",
            "\n"
          ]
        }
      ]
    },
    {
      "cell_type": "markdown",
      "metadata": {
        "id": "2yUSe55VY-9t"
      },
      "source": [
        "### Create DataFrames to match tables"
      ]
    },
    {
      "cell_type": "code",
      "metadata": {
        "id": "C8REmY1aY-9u",
        "colab": {
          "base_uri": "https://localhost:8080/"
        },
        "outputId": "9c5d422a-c197-4c0a-f761-eee29b72f4de"
      },
      "source": [
        "from pyspark.sql.functions import to_date\n",
        "# Read in the Review dataset as a DataFrame\n",
        "df.show(5)"
      ],
      "execution_count": 5,
      "outputs": [
        {
          "output_type": "stream",
          "name": "stdout",
          "text": [
            "+-----------+-----------+--------------+----------+--------------+--------------------+----------------+-----------+-------------+-----------+----+-----------------+--------------------+--------------------+-------------------+\n",
            "|marketplace|customer_id|     review_id|product_id|product_parent|       product_title|product_category|star_rating|helpful_votes|total_votes|vine|verified_purchase|     review_headline|         review_body|        review_date|\n",
            "+-----------+-----------+--------------+----------+--------------+--------------------+----------------+-----------+-------------+-----------+----+-----------------+--------------------+--------------------+-------------------+\n",
            "|         US|    1797882|R3I2DHQBR577SS|B001ANOOOE|       2102612|The Naked Bee Vit...|          Beauty|          5|            0|          0|   N|                Y|          Five Stars|Love this, excell...|2015-08-31 00:00:00|\n",
            "|         US|   18381298|R1QNE9NQFJC2Y4|B0016J22EQ|     106393691|Alba Botanica Sun...|          Beauty|          5|            0|          0|   N|                Y|Thank you Alba Bo...|The great thing a...|2015-08-31 00:00:00|\n",
            "|         US|   19242472|R3LIDG2Q4LJBAO|B00HU6UQAG|     375449471|Elysee Infusion S...|          Beauty|          5|            0|          0|   N|                Y|          Five Stars|Great Product, I'...|2015-08-31 00:00:00|\n",
            "|         US|   19551372|R3KSZHPAEVPEAL|B002HWS7RM|     255651889|Diane D722 Color,...|          Beauty|          5|            0|          0|   N|                Y|          GOOD DEAL!|I use them as sho...|2015-08-31 00:00:00|\n",
            "|         US|   14802407| RAI2OIG50KZ43|B00SM99KWU|     116158747|Biore UV Aqua Ric...|          Beauty|          5|            0|          0|   N|                Y|this soaks in qui...|This is my go-to ...|2015-08-31 00:00:00|\n",
            "+-----------+-----------+--------------+----------+--------------+--------------------+----------------+-----------+-------------+-----------+----+-----------------+--------------------+--------------------+-------------------+\n",
            "only showing top 5 rows\n",
            "\n"
          ]
        }
      ]
    },
    {
      "cell_type": "code",
      "metadata": {
        "id": "B0TESUDRY-90",
        "colab": {
          "base_uri": "https://localhost:8080/"
        },
        "outputId": "5af940cb-31b4-4cdb-b439-11a011ef3e55"
      },
      "source": [
        "# Create the customers_table DataFrame\n",
        "customers_df = df.groupby(\"customer_id\").agg({\"customer_id\":\"count\"}).withColumnRenamed(\"count(customer_id)\", \"customer_count\")\n",
        "customers_df.show(5)"
      ],
      "execution_count": 6,
      "outputs": [
        {
          "output_type": "stream",
          "name": "stdout",
          "text": [
            "+-----------+--------------+\n",
            "|customer_id|customer_count|\n",
            "+-----------+--------------+\n",
            "|    9015608|             3|\n",
            "|    9767880|             2|\n",
            "|   15958313|             1|\n",
            "|   12879980|            20|\n",
            "|   43920023|            31|\n",
            "+-----------+--------------+\n",
            "only showing top 5 rows\n",
            "\n"
          ]
        }
      ]
    },
    {
      "cell_type": "code",
      "metadata": {
        "id": "4FwXA6UvY-96",
        "colab": {
          "base_uri": "https://localhost:8080/"
        },
        "outputId": "b65f94f1-9623-4a52-b217-a29cf04839fb"
      },
      "source": [
        "# Create the products_table DataFrame and drop duplicates. \n",
        "products_df = df.select([\"product_id\", \"product_title\"]).drop_duplicates()\n",
        "#products_df.show(5)\n",
        "products_df.groupBy(\"product_id\").count().where(\"count > 1\").show(5)"
      ],
      "execution_count": 16,
      "outputs": [
        {
          "output_type": "stream",
          "name": "stdout",
          "text": [
            "+----------+-----+\n",
            "|product_id|count|\n",
            "+----------+-----+\n",
            "|B00MGVKA4C|  204|\n",
            "|B00HN1LWY2|    3|\n",
            "|B001R4CLFK|    5|\n",
            "+----------+-----+\n",
            "\n"
          ]
        }
      ]
    },
    {
      "cell_type": "code",
      "source": [
        "products_df.where(\"product_id = 'B00MGVKA4C'\").show()"
      ],
      "metadata": {
        "colab": {
          "base_uri": "https://localhost:8080/"
        },
        "id": "rehhm3ZeUp7l",
        "outputId": "771d0d10-5b3a-4e6e-e611-ff386841fd58"
      },
      "execution_count": 17,
      "outputs": [
        {
          "output_type": "stream",
          "name": "stdout",
          "text": [
            "+----------+--------------------+\n",
            "|product_id|       product_title|\n",
            "+----------+--------------------+\n",
            "|B00MGVKA4C|Konjac Sponge - O...|\n",
            "|B00MGVKA4C|Konjac Sponge - O...|\n",
            "|B00MGVKA4C|Konjac Sponge - O...|\n",
            "|B00MGVKA4C|Konjac Sponge - O...|\n",
            "|B00MGVKA4C|Konjac Sponge - O...|\n",
            "|B00MGVKA4C|Konjac Sponge - O...|\n",
            "|B00MGVKA4C|Konjac Sponge - O...|\n",
            "|B00MGVKA4C|Konjac Sponge - O...|\n",
            "|B00MGVKA4C|Konjac Sponge - O...|\n",
            "|B00MGVKA4C|Konjac Sponge - O...|\n",
            "|B00MGVKA4C|Konjac Sponge - O...|\n",
            "|B00MGVKA4C|Konjac Sponge - O...|\n",
            "|B00MGVKA4C|Konjac Sponge - O...|\n",
            "|B00MGVKA4C|Konjac Sponge - O...|\n",
            "|B00MGVKA4C|Konjac Sponge - O...|\n",
            "|B00MGVKA4C|Konjac Sponge - O...|\n",
            "|B00MGVKA4C|Konjac Sponge - O...|\n",
            "|B00MGVKA4C|Konjac Sponge - O...|\n",
            "|B00MGVKA4C|Konjac Sponge - O...|\n",
            "|B00MGVKA4C|Konjac Sponge - O...|\n",
            "+----------+--------------------+\n",
            "only showing top 20 rows\n",
            "\n"
          ]
        }
      ]
    },
    {
      "cell_type": "code",
      "source": [
        "new_products_df = products_df.filter(\"product_id != 'B00MGVKA4C'\")\n",
        "new_products_df = new_products_df.filter(\"product_id != 'B00HN1LWY2'\")\n",
        "new_products_df = new_products_df.filter(\"product_id != 'B001R4CLFK'\")\n"
      ],
      "metadata": {
        "id": "TNFaFhWjVPH6"
      },
      "execution_count": 19,
      "outputs": []
    },
    {
      "cell_type": "code",
      "source": [
        "new_products_df.groupBy(\"product_id\").count().where(\"count > 1\").show(5)"
      ],
      "metadata": {
        "colab": {
          "base_uri": "https://localhost:8080/"
        },
        "id": "C5Ql0HohWm0v",
        "outputId": "4ff32a7d-f9e4-4250-aa73-aa870172d352"
      },
      "execution_count": 21,
      "outputs": [
        {
          "output_type": "stream",
          "name": "stdout",
          "text": [
            "+----------+-----+\n",
            "|product_id|count|\n",
            "+----------+-----+\n",
            "+----------+-----+\n",
            "\n"
          ]
        }
      ]
    },
    {
      "cell_type": "code",
      "metadata": {
        "id": "MkqyCuNQY-9-",
        "colab": {
          "base_uri": "https://localhost:8080/"
        },
        "outputId": "77573332-3954-46ef-9c88-d0073f876979"
      },
      "source": [
        "# Create the review_id_table DataFrame. \n",
        "#Convert the 'review_date' column to a date datatype with to_date(\"review_date\", 'yyyy-MM-dd').alias(\"review_date\")\n",
        "review_id_df = df.select([\"review_id\", \"customer_id\", \"product_id\", \"product_parent\", to_date(\"review_date\",'yyyy-MM-dd').alias(\"review_date\")])\n",
        "review_id_df.show(5)"
      ],
      "execution_count": 8,
      "outputs": [
        {
          "output_type": "stream",
          "name": "stdout",
          "text": [
            "+--------------+-----------+----------+--------------+-----------+\n",
            "|     review_id|customer_id|product_id|product_parent|review_date|\n",
            "+--------------+-----------+----------+--------------+-----------+\n",
            "|R3I2DHQBR577SS|    1797882|B001ANOOOE|       2102612| 2015-08-31|\n",
            "|R1QNE9NQFJC2Y4|   18381298|B0016J22EQ|     106393691| 2015-08-31|\n",
            "|R3LIDG2Q4LJBAO|   19242472|B00HU6UQAG|     375449471| 2015-08-31|\n",
            "|R3KSZHPAEVPEAL|   19551372|B002HWS7RM|     255651889| 2015-08-31|\n",
            "| RAI2OIG50KZ43|   14802407|B00SM99KWU|     116158747| 2015-08-31|\n",
            "+--------------+-----------+----------+--------------+-----------+\n",
            "only showing top 5 rows\n",
            "\n"
          ]
        }
      ]
    },
    {
      "cell_type": "code",
      "metadata": {
        "id": "lzMmkdKmY--D",
        "colab": {
          "base_uri": "https://localhost:8080/"
        },
        "outputId": "9e9628a3-9aba-45bf-8dc1-0cbd2ab1706a"
      },
      "source": [
        "# Create the vine_table. DataFrame\n",
        "vine_df = df.select([\"review_id\", \"star_rating\", \"helpful_votes\", \"total_votes\", \"vine\", \"verified_purchase\"])\n",
        "vine_df.show(5)"
      ],
      "execution_count": 9,
      "outputs": [
        {
          "output_type": "stream",
          "name": "stdout",
          "text": [
            "+--------------+-----------+-------------+-----------+----+-----------------+\n",
            "|     review_id|star_rating|helpful_votes|total_votes|vine|verified_purchase|\n",
            "+--------------+-----------+-------------+-----------+----+-----------------+\n",
            "|R3I2DHQBR577SS|          5|            0|          0|   N|                Y|\n",
            "|R1QNE9NQFJC2Y4|          5|            0|          0|   N|                Y|\n",
            "|R3LIDG2Q4LJBAO|          5|            0|          0|   N|                Y|\n",
            "|R3KSZHPAEVPEAL|          5|            0|          0|   N|                Y|\n",
            "| RAI2OIG50KZ43|          5|            0|          0|   N|                Y|\n",
            "+--------------+-----------+-------------+-----------+----+-----------------+\n",
            "only showing top 5 rows\n",
            "\n"
          ]
        }
      ]
    },
    {
      "cell_type": "markdown",
      "metadata": {
        "id": "jITZhLkmY--J"
      },
      "source": [
        "### Connect to the AWS RDS instance and write each DataFrame to its table. "
      ]
    },
    {
      "cell_type": "code",
      "metadata": {
        "id": "7jiUvs1aY--L"
      },
      "source": [
        "# Configure settings for RDS\n",
        "mode = \"append\"\n",
        "jdbc_url=\"jdbc:postgresql://amazonreviews.cwcn9baktiej.us-west-2.rds.amazonaws.com:5432/AmazonReviews\"\n",
        "config = {\"user\":\"postgres\", \n",
        "          \"password\": \"Challenge16\", \n",
        "          \"driver\":\"org.postgresql.Driver\"}"
      ],
      "execution_count": 12,
      "outputs": []
    },
    {
      "cell_type": "code",
      "metadata": {
        "id": "T2zgZ-aKY--Q"
      },
      "source": [
        "# Write review_id_df to table in RDS\n",
        "review_id_df.write.jdbc(url=jdbc_url, table='review_id_table', mode=mode, properties=config)"
      ],
      "execution_count": 13,
      "outputs": []
    },
    {
      "cell_type": "code",
      "metadata": {
        "id": "1m3yzn-LY--U"
      },
      "source": [
        "# Write products_df to table in RDS\n",
        "# about 3 min\n",
        "new_products_df.write.jdbc(url=jdbc_url, table='products_table', mode=mode, properties=config)"
      ],
      "execution_count": 22,
      "outputs": []
    },
    {
      "cell_type": "code",
      "metadata": {
        "id": "KbXri15fY--Z"
      },
      "source": [
        "# Write customers_df to table in RDS\n",
        "# 5 min 14 s\n",
        "customers_df.write.jdbc(url=jdbc_url, table='customers_table', mode=mode, properties=config)"
      ],
      "execution_count": 23,
      "outputs": []
    },
    {
      "cell_type": "code",
      "metadata": {
        "id": "XdQknSHLY--e"
      },
      "source": [
        "# Write vine_df to table in RDS\n",
        "# 11 minutes\n",
        "vine_df.write.jdbc(url=jdbc_url, table='vine_table', mode=mode, properties=config)"
      ],
      "execution_count": 25,
      "outputs": []
    },
    {
      "cell_type": "code",
      "metadata": {
        "id": "Exuo6ebUsCqW"
      },
      "source": [],
      "execution_count": null,
      "outputs": []
    }
  ]
}